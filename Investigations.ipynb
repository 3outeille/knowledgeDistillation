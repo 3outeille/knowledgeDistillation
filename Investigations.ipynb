{
 "cells": [
  {
   "cell_type": "markdown",
   "metadata": {},
   "source": [
    "# Experiments and investigation\n",
    "Generally one can consider two settings that could be interesting to investigate:\n",
    "- Decaying the impact of the teacher model with the epochs. As the student becomes better, the hints might become a restriction and the student might overfit to the teacher.\n",
    "- Despite the teacher being better than the student, it still creates errors and adapting the tranferred knowledge to only include those samples that the teacher predicts correctly, might allow the student to more freely learn what the teacher can not. One could consider a focal loss kind of approach as an soft alternative."
   ]
  },
  {
   "cell_type": "code",
   "execution_count": 4,
   "metadata": {},
   "outputs": [],
   "source": [
    "import torch\n",
    "import torch.nn as nn\n",
    "from distillation.hintonDistiller import HintonDistiller\n",
    "from distillation.utils import CNN, Accuracy\n",
    "from torchvision import datasets, transforms\n",
    "from trainer.baseTrainer import BaseTrainer"
   ]
  },
  {
   "cell_type": "code",
   "execution_count": 5,
   "metadata": {},
   "outputs": [],
   "source": [
    "# Initialize random models and distiller\n",
    "imgSize = (1, 28, 28)\n",
    "batchSize = 256\n",
    "\n",
    "# Prepare data\n",
    "transform=transforms.Compose([\n",
    "    transforms.ToTensor(),\n",
    "    transforms.Normalize((0.1307,), (0.3081,))\n",
    "])\n",
    "\n",
    "trainloader = torch.utils.data.DataLoader(\n",
    "    datasets.MNIST('data/',\n",
    "                   train=True,\n",
    "                   download=True,\n",
    "                   transform=transform\n",
    "                  ),\n",
    "    batch_size=batchSize)\n",
    "\n",
    "validloader = torch.utils.data.DataLoader(\n",
    "    datasets.MNIST('data/',\n",
    "                   train=False,\n",
    "                   download=True,\n",
    "                   transform=transform\n",
    "                  ),\n",
    "    batch_size=batchSize)"
   ]
  },
  {
   "cell_type": "markdown",
   "metadata": {},
   "source": [
    "## Train teacher on MNIST"
   ]
  },
  {
   "cell_type": "code",
   "execution_count": 6,
   "metadata": {},
   "outputs": [],
   "source": [
    "EPOCHS = 5"
   ]
  },
  {
   "cell_type": "code",
   "execution_count": null,
   "metadata": {},
   "outputs": [
    {
     "name": "stdout",
     "output_type": "stream",
     "text": [
      "Saves checkpoint in checkpoint/train/20200909-155707\n",
      "\n",
      "========= Training =========\n",
      "Epoch:   1/5\t Train/Loss: 0.409\t Train/Metric: 0.889\t Valid/Loss: 0.208\t Valid/Metric: 0.939\n",
      "Epoch:   2/5\t Train/Loss: 0.172\t Train/Metric: 0.952\t Valid/Loss: 0.156\t Valid/Metric: 0.955\n",
      "Epoch:   3/5\t Train/Loss: 0.133\t Train/Metric: 0.964\t Valid/Loss: 0.128\t Valid/Metric: 0.964\n"
     ]
    }
   ],
   "source": [
    "teacher = CNN(imgSize, 10)\n",
    "\n",
    "# Initialize objectives and optimizer\n",
    "objective = nn.CrossEntropyLoss()\n",
    "optimizer = torch.optim.SGD(teacher.parameters(), lr=1e-2)\n",
    "metric = Accuracy(OH=False)\n",
    "\n",
    "# Initialize trainer\n",
    "trainer = BaseTrainer()\n",
    "\n",
    "# Load state if checkpoint is provided otherwise .load_state merely returns 1 as startEpoch\n",
    "checkpoint = None\n",
    "startEpoch = trainer.load_state(checkpoint, teacher, optimizer)\n",
    "\n",
    "# Construct checkpoint directory\n",
    "trainer.save(0, teacher, optimizer, {}, subDirectory='train')\n",
    "print('Saves checkpoint in {:s}'.format(trainer.checkpointDir))\n",
    "\n",
    "print('\\n========= Training =========')\n",
    "for epoch in range(startEpoch, EPOCHS+1):\n",
    "    # Training step for one full epoch\n",
    "    trainMetrics = trainer.train_step(model=teacher,\n",
    "                                      dataloader=trainloader,\n",
    "                                      objective=objective,\n",
    "                                      metric=metric,\n",
    "                                      optimizer=optimizer)\n",
    "        \n",
    "    # Validation step for one full epoch\n",
    "    validMetrics = trainer.validate(model=teacher,\n",
    "                                    dataloader=validloader,\n",
    "                                    objective=objective,\n",
    "                                    metric=metric)\n",
    "\n",
    "    metrics = {**trainMetrics, **validMetrics}\n",
    "\n",
    "    # Save teacher\n",
    "    trainer.save(epoch, teacher, optimizer, metrics, subDirectory='train')\n",
    "        \n",
    "    # Print epoch performance\n",
    "    trainer.print_epoch(epoch, EPOCHS, metrics)"
   ]
  },
  {
   "cell_type": "markdown",
   "metadata": {},
   "source": [
    "## Distill with Hinton KD\n",
    "You can consider the teacher as the student trained from scratch in this setting."
   ]
  },
  {
   "cell_type": "code",
   "execution_count": 19,
   "metadata": {},
   "outputs": [
    {
     "name": "stdout",
     "output_type": "stream",
     "text": [
      "Saves checkpoint in checkpoint/distill/20200908-134220\n",
      "\n",
      "========= Distilling =========\n",
      "Epoch:   1/5\t Train/Loss: 0.328\t Train/Accuracy: 0.884\t Valid/Loss: 0.221\t Valid/Accuracy: 0.938\n",
      "Epoch:   2/5\t Train/Loss: 0.069\t Train/Accuracy: 0.945\t Valid/Loss: 0.180\t Valid/Accuracy: 0.949\n",
      "Epoch:   3/5\t Train/Loss: 0.045\t Train/Accuracy: 0.955\t Valid/Loss: 0.159\t Valid/Accuracy: 0.954\n",
      "Epoch:   4/5\t Train/Loss: 0.033\t Train/Accuracy: 0.960\t Valid/Loss: 0.146\t Valid/Accuracy: 0.958\n",
      "Epoch:   5/5\t Train/Loss: 0.026\t Train/Accuracy: 0.964\t Valid/Loss: 0.137\t Valid/Accuracy: 0.960\n"
     ]
    }
   ],
   "source": [
    "student = CNN(imgSize, 10)\n",
    "distiller = HintonDistiller(alpha=0.1,\n",
    "                            studentLayer=-1,\n",
    "                            teacherLayer=-1)\n",
    "\n",
    "# Initialize objectives and optimizer\n",
    "objective = nn.CrossEntropyLoss()\n",
    "distillObjective = nn.KLDivLoss(reduction='batchmean')\n",
    "optimizer = torch.optim.SGD(student.parameters(), lr=1e-2)\n",
    "\n",
    "# Load state if checkpoint is provided\n",
    "checkpoint = None\n",
    "startEpoch = distiller.load_state(checkpoint, student, teacher, optimizer)\n",
    "epochs = 5\n",
    "\n",
    "distiller.save(0, student, teacher, optimizer, 'distill')\n",
    "print('Saves checkpoint in {:s}'.format(distiller.checkpointDir))\n",
    "\n",
    "print('\\n========= Distilling =========')\n",
    "for epoch in range(startEpoch, epochs+1):\n",
    "        # Training step for one full epoch\n",
    "        trainMetrics = distiller.train_step(student=student,\n",
    "                                            teacher=teacher,\n",
    "                                            dataloader=trainloader,\n",
    "                                            optimizer=optimizer,\n",
    "                                            objective=objective,\n",
    "                                            distillObjective=distillObjective)\n",
    "        \n",
    "        # Validation step for one full epoch\n",
    "        validMetrics = distiller.validate(student=student,\n",
    "                                          dataloader=validloader,\n",
    "                                          objective=objective)\n",
    "        metrics = {**trainMetrics, **validMetrics}\n",
    "\n",
    "        # Save model\n",
    "        distiller.save(epoch, student, teacher, optimizer, 'distill')\n",
    "        \n",
    "        # Print epoch performance\n",
    "        distiller.print_epoch(epoch, epochs, metrics)"
   ]
  },
  {
   "cell_type": "markdown",
   "metadata": {},
   "source": [
    "## Decaying teacher weight"
   ]
  },
  {
   "cell_type": "markdown",
   "metadata": {},
   "source": [
    "$$\\eta_t = \\eta_{min} + \\frac{1}{2}(\\eta_{max} - \\eta_{min})\\left(1 + \\cos\\left(\\frac{T_{cur}}{T_{max}}\\pi\\right)\\right)$$"
   ]
  },
  {
   "cell_type": "code",
   "execution_count": 47,
   "metadata": {},
   "outputs": [],
   "source": [
    "import numpy as np\n",
    "import matplotlib.pyplot as plt"
   ]
  },
  {
   "cell_type": "code",
   "execution_count": 103,
   "metadata": {},
   "outputs": [],
   "source": [
    "class TeacherAnnealing(object):\n",
    "    \"\"\"\n",
    "    Updates the (1-alpha)-weight for knowledge distillation according to CosineAnnealing\n",
    "    \\eta_t = \\eta_{min} + \\frac{1}{2}(\\eta_{max} -\n",
    "        \\eta_{min})\\left(1 + \\cos\\left(\\frac{T_{cur}}{T_{max}}\\pi\\right)\\right)\n",
    "    \"\"\"\n",
    "    def __init__(self, distiller, endVal, epochs):\n",
    "        \"\"\"\n",
    "        Args:\n",
    "            distiller: distiller to update. Must have alpha attribute\n",
    "            endVal: val to anneal to in èpochs` iterations\n",
    "            epochs: amouint of iterations to reach `endVal`\n",
    "        \"\"\"\n",
    "        self.distiller = distiller\n",
    "        self.etaMax = self.distiller.alpha\n",
    "        self.etaMin = endVal\n",
    "        self.tMax = epochs\n",
    "        self.tCur = 0\n",
    "        \n",
    "    def reset(self):\n",
    "        self.tCur = 0\n",
    "        self.distiller.alpha = self.etaMax\n",
    "    \n",
    "    def step(self):\n",
    "        self.tCur += 1\n",
    "        self.distiller.alpha = 1-(self.etaMin + 0.5*(self.etaMax - self.etaMin)*(1 + torch.cos(self.tCur/self.tMax * torch.tensor(np.pi))))\n",
    "        \n",
    "    def get_val(self):\n",
    "        return self.distiller.alpha"
   ]
  },
  {
   "cell_type": "code",
   "execution_count": 110,
   "metadata": {},
   "outputs": [
    {
     "data": {
      "image/png": "[encoded data removed]",
      "text/plain": [
       "<Figure size 432x288 with 1 Axes>"
      ]
     },
     "metadata": {
      "needs_background": "light"
     },
     "output_type": "display_data"
    }
   ],
   "source": [
    "teacherSchedule = TeacherAnnealing(distiller, 0.05, 50)\n",
    "\n",
    "vals = []\n",
    "for i in range(100):\n",
    "    vals.append(teacherSchedule.get_val())\n",
    "    teacherSchedule.step()\n",
    "    #if i % 50 == 0:\n",
    "    #    teacherSchedule.reset()\n",
    "\n",
    "plt.plot(vals);"
   ]
  },
  {
   "cell_type": "code",
   "execution_count": 126,
   "metadata": {},
   "outputs": [
    {
     "data": {
      "image/png": "[encoded data removed]",
      "text/plain": [
       "<Figure size 432x288 with 1 Axes>"
      ]
     },
     "metadata": {
      "needs_background": "light"
     },
     "output_type": "display_data"
    }
   ],
   "source": [
    "alpha = 0.5\n",
    "def EDA(alpha, n, lambd=2):\n",
    "    epochs = np.arange(n)\n",
    "    return alpha*lambd**(epochs/n)\n",
    "\n",
    "plt.plot(EDA(alpha, 1000, 0.2));"
   ]
  },
  {
   "cell_type": "code",
   "execution_count": 113,
   "metadata": {},
   "outputs": [
    {
     "name": "stdout",
     "output_type": "stream",
     "text": [
      "Saves checkpoint in checkpoint/distill/20200908-145121\n",
      "\n",
      "========= Distilling =========\n",
      "Epoch:   1/5\t Train/Loss: 0.328\t Train/Accuracy: 0.891\t alpha: 0.500\t Valid/Loss: 0.212\t Valid/Accuracy: 0.939\n",
      "Epoch:   2/5\t Train/Loss: 0.119\t Train/Accuracy: 0.951\t alpha: 0.543\t Valid/Loss: 0.163\t Valid/Accuracy: 0.954\n",
      "Epoch:   3/5\t Train/Loss: 0.101\t Train/Accuracy: 0.963\t alpha: 0.655\t Valid/Loss: 0.137\t Valid/Accuracy: 0.962\n",
      "Epoch:   4/5\t Train/Loss: 0.098\t Train/Accuracy: 0.969\t alpha: 0.795\t Valid/Loss: 0.118\t Valid/Accuracy: 0.967\n",
      "Epoch:   5/5\t Train/Loss: 0.095\t Train/Accuracy: 0.973\t alpha: 0.907\t Valid/Loss: 0.105\t Valid/Accuracy: 0.970\n"
     ]
    }
   ],
   "source": [
    "epochs = 5\n",
    "student = CNN(imgSize, 10)\n",
    "distiller = HintonDistiller(alpha=0.5,\n",
    "                            studentLayer=-1,\n",
    "                            teacherLayer=-1)\n",
    "\n",
    "# Initialize objectives and optimizer\n",
    "objective = nn.CrossEntropyLoss()\n",
    "distillObjective = nn.KLDivLoss(reduction='batchmean')\n",
    "optimizer = torch.optim.SGD(student.parameters(), lr=1e-2)\n",
    "teacherSchedule = TeacherAnnealing(distiller, 0.05, epochs)\n",
    "\n",
    "# Load state if checkpoint is provided\n",
    "checkpoint = None\n",
    "startEpoch = distiller.load_state(checkpoint, student, teacher, optimizer)\n",
    "\n",
    "distiller.save(0, student, teacher, optimizer, 'distill')\n",
    "print('Saves checkpoint in {:s}'.format(distiller.checkpointDir))\n",
    "\n",
    "print('\\n========= Distilling =========')\n",
    "for epoch in range(startEpoch, epochs+1):\n",
    "        # Training step for one full epoch\n",
    "        trainMetrics = distiller.train_step(student=student,\n",
    "                                            teacher=teacher,\n",
    "                                            dataloader=trainloader,\n",
    "                                            optimizer=optimizer,\n",
    "                                            objective=objective,\n",
    "                                            distillObjective=distillObjective)\n",
    "        \n",
    "        # Validation step for one full epoch\n",
    "        validMetrics = distiller.validate(student=student,\n",
    "                                          dataloader=validloader,\n",
    "                                          objective=objective)\n",
    "        metrics = {**trainMetrics, **{'alpha': distiller.alpha}, **validMetrics}\n",
    "\n",
    "        # Save model\n",
    "        distiller.save(epoch, student, teacher, optimizer, 'distill')\n",
    "        \n",
    "        # Print epoch performance\n",
    "        distiller.print_epoch(epoch, epochs, metrics)\n",
    "        \n",
    "        # Schedule step\n",
    "        teacherSchedule.step()"
   ]
  },
  {
   "cell_type": "markdown",
   "metadata": {},
   "source": [
    "### Focal KLD\n",
    "Consider the binary focal loss $$FL(p_t) = -(1-p_t)^\\gamma \\log(p_t),$$\n",
    "where $\\gamma > 1$ punish less when the prediction is correct, but not confident, than when it is faulty. I.e. when $p_t \\approx 0$, the loss is much larger, but if $pt_ \\approx 1$, the loss is much smaller.\n",
    "Now consider a similar setting for the KL Divergence of two distributions $p_t$, and $p_s$:\n",
    "$$FKLD(p_t, p_s) = -{p^i_t}^\\gamma KLD(p_t, p_s)$$\n",
    "where $p^i_t$ is the probability of the true class, and thus the KLD is reduced much when the teacher is wrong and little when the teacher is correct."
   ]
  },
  {
   "cell_type": "code",
   "execution_count": null,
   "metadata": {},
   "outputs": [],
   "source": [
    "class FocalKLD(object):\n",
    "    \"\"\"Focal-like weighting of KLD\"\"\"\n",
    "    def __call__(self, yTrue, yStudent, yTeacher):\n",
    "        weights = yTeacher[torch.arange(yTeacher.size(0)), yTrue]\n",
    "        kld = torch.nn.functional.kl_div(yTeacher, yStudent, reduction='none')\n",
    "        return torch.sum(weights.unsqueeze(1)*kld, axis=1).mean()"
   ]
  },
  {
   "cell_type": "code",
   "execution_count": null,
   "metadata": {},
   "outputs": [],
   "source": [
    "y_true = torch.tensor([2,3,4])\n",
    "y_student = torch.softmax(torch.rand((3,8)), 1)\n",
    "y_teacher = torch.softmax(torch.rand((3,8)), 1)\n",
    "print(y_true)\n",
    "print(y_student)\n",
    "print(y_teacher)\n",
    "\n",
    "focalkld = FocalKLD()\n",
    "print(focalkld(y_true, y_student, y_teacher))\n",
    "torch.nn.functional.kl_div(y_teacher, y_student, reduction='batchmean')"
   ]
  },
  {
   "cell_type": "code",
   "execution_count": null,
   "metadata": {},
   "outputs": [],
   "source": [
    "import torch\n",
    "import torch.nn as nn\n",
    "from distillation.utils import Accuracy, AverageMeter, Hook\n",
    "from distillation.baseDistiller import BaseDistiller\n",
    "\n",
    "class HintonDistiller(BaseDistiller):\n",
    "    def __init__(self, alpha, studentLayer=-2, teacherLayer=-2):\n",
    "        super(HintonDistiller, self).__init__()\n",
    "        \n",
    "        self.alpha = alpha\n",
    "        self.studentLayer = studentLayer\n",
    "        self.teacherLayer = teacherLayer\n",
    "        \n",
    "        # Register hooks\n",
    "        self.studentHook = Hook()\n",
    "        self.teacherHook = Hook()\n",
    "\n",
    "    def train_step(self, student, teacher, dataloader, optimizer, objective, distillObjective, OneHot=False):\n",
    "        \"\"\"\n",
    "        Train student model to the teacher model for one epoch with Hinton KD.\n",
    "        \n",
    "        :return: dict, named metrics for logging.\n",
    "        \"\"\"\n",
    "        student.train()\n",
    "        teacher.eval()\n",
    "        \n",
    "        # Attach\n",
    "        if not self.studentHook.hooked():\n",
    "            self._setHook(self.studentHook, student, self.studentLayer)\n",
    "        if not self.teacherHook.hooked():\n",
    "            self._setHook(self.teacherHook, teacher, self.teacherLayer)\n",
    "\n",
    "        device = next(student.parameters()).device\n",
    "        accuracy = Accuracy(OH=OneHot)\n",
    "        lossMeter = AverageMeter()\n",
    "        accMeter = AverageMeter()\n",
    "        \n",
    "        for _, (data, target) in enumerate(dataloader):\n",
    "            data, target = data.to(device), target.to(device)\n",
    "\n",
    "            # Calculate logits\n",
    "            sLogits = student(data)\n",
    "            tLogits = teacher(data)\n",
    "            \n",
    "            # Retrieve activations from distillation layer of both models\n",
    "            sAct = self.studentHook.val()\n",
    "            tAct = self.teacherHook.val()\n",
    "            \n",
    "            # Calculate loss\n",
    "            optimizer.zero_grad()\n",
    "            batchLoss = (1-self.alpha)*distillObjective(target, nn.functional.log_softmax(sAct, dim=1), nn.functional.softmax(tAct, dim=1))\n",
    "            batchLoss += self.alpha*objective(nn.functional.log_softmax(sLogits, dim=1), target)\n",
    "\n",
    "            # Update student weights\n",
    "            batchLoss.backward()\n",
    "            optimizer.step()\n",
    "            \n",
    "            # Save metrics\n",
    "            lossMeter.update(batchLoss.item(), n=len(data))\n",
    "            accMeter.update(accuracy(nn.functional.softmax(sLogits, dim=1), target), n=len(data))\n",
    "        \n",
    "        return {'Train/Loss': lossMeter.avg,\n",
    "                'Train/Accuracy': accMeter.avg}\n"
   ]
  },
  {
   "cell_type": "code",
   "execution_count": 3,
   "metadata": {},
   "outputs": [
    {
     "ename": "NameError",
     "evalue": "name 'CNN' is not defined",
     "output_type": "error",
     "traceback": [
      "\u001b[0;31m---------------------------------------------------------------------------\u001b[0m",
      "\u001b[0;31mNameError\u001b[0m                                 Traceback (most recent call last)",
      "\u001b[0;32m<ipython-input-3-4d7bc11b1443>\u001b[0m in \u001b[0;36m<module>\u001b[0;34m\u001b[0m\n\u001b[1;32m      1\u001b[0m \u001b[0mepochs\u001b[0m \u001b[0;34m=\u001b[0m \u001b[0;36m5\u001b[0m\u001b[0;34m\u001b[0m\u001b[0;34m\u001b[0m\u001b[0m\n\u001b[0;32m----> 2\u001b[0;31m \u001b[0mstudent\u001b[0m \u001b[0;34m=\u001b[0m \u001b[0mCNN\u001b[0m\u001b[0;34m(\u001b[0m\u001b[0mimgSize\u001b[0m\u001b[0;34m,\u001b[0m \u001b[0;36m10\u001b[0m\u001b[0;34m)\u001b[0m\u001b[0;34m\u001b[0m\u001b[0;34m\u001b[0m\u001b[0m\n\u001b[0m\u001b[1;32m      3\u001b[0m distiller = HintonDistiller(alpha=0.5,\n\u001b[1;32m      4\u001b[0m                             \u001b[0mstudentLayer\u001b[0m\u001b[0;34m=\u001b[0m\u001b[0;34m-\u001b[0m\u001b[0;36m1\u001b[0m\u001b[0;34m,\u001b[0m\u001b[0;34m\u001b[0m\u001b[0;34m\u001b[0m\u001b[0m\n\u001b[1;32m      5\u001b[0m                             teacherLayer=-1)\n",
      "\u001b[0;31mNameError\u001b[0m: name 'CNN' is not defined"
     ]
    }
   ],
   "source": [
    "epochs = 5\n",
    "student = CNN(imgSize, 10)\n",
    "distiller = HintonDistiller(alpha=0.5,\n",
    "                            studentLayer=-1,\n",
    "                            teacherLayer=-1)\n",
    "\n",
    "# Initialize objectives and optimizer\n",
    "objective = nn.CrossEntropyLoss()\n",
    "distillObjective = FocalKLD()\n",
    "optimizer = torch.optim.SGD(student.parameters(), lr=1e-2)\n",
    "\n",
    "# Load state if checkpoint is provided\n",
    "checkpoint = None\n",
    "startEpoch = distiller.load_state(checkpoint, student, teacher, optimizer)\n",
    "\n",
    "distiller.save(0, student, teacher, optimizer, 'distill')\n",
    "print('Saves checkpoint in {:s}'.format(distiller.checkpointDir))\n",
    "\n",
    "print('\\n========= Distilling =========')\n",
    "for epoch in range(startEpoch, epochs+1):\n",
    "        # Training step for one full epoch\n",
    "        trainMetrics = distiller.train_step(student=student,\n",
    "                                            teacher=teacher,\n",
    "                                            dataloader=trainloader,\n",
    "                                            optimizer=optimizer,\n",
    "                                            objective=objective,\n",
    "                                            distillObjective=distillObjective)\n",
    "        \n",
    "        # Validation step for one full epoch\n",
    "        validMetrics = distiller.validate(student=student,\n",
    "                                          dataloader=validloader,\n",
    "                                          objective=objective)\n",
    "        metrics = {**trainMetrics, **{'alpha': distiller.alpha}, **validMetrics}\n",
    "\n",
    "        # Save model\n",
    "        distiller.save(epoch, student, teacher, optimizer, 'distill')\n",
    "        \n",
    "        # Print epoch performance\n",
    "        distiller.print_epoch(epoch, epochs, metrics)\n",
    "        \n",
    "        # Schedule step\n",
    "        teacherSchedule.step()"
   ]
  },
  {
   "cell_type": "code",
   "execution_count": null,
   "metadata": {},
   "outputs": [],
   "source": []
  }
 ],
 "metadata": {
  "kernelspec": {
   "display_name": "Python 3",
   "language": "python",
   "name": "python3"
  },
  "language_info": {
   "codemirror_mode": {
    "name": "ipython",
    "version": 3
   },
   "file_extension": ".py",
   "mimetype": "text/x-python",
   "name": "python",
   "nbconvert_exporter": "python",
   "pygments_lexer": "ipython3",
   "version": "3.7.5"
  }
 },
 "nbformat": 4,
 "nbformat_minor": 4
}
